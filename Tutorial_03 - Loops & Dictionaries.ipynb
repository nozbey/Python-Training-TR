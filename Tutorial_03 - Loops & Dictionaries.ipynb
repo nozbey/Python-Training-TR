{
 "cells": [
  {
   "cell_type": "markdown",
   "metadata": {},
   "source": [
    "## Döngüler"
   ]
  },
  {
   "cell_type": "markdown",
   "metadata": {},
   "source": [
    "* Bir veya birden fazla işlem satırını, bir koşula bağlı olarak, belirli sayıda veya bir koşul sağlandığı sürece tekrarlayarak çalıştıran kalıplara döngü adı verilir"
   ]
  },
  {
   "cell_type": "code",
   "execution_count": 1,
   "metadata": {},
   "outputs": [],
   "source": [
    "# Örnek olarak bir liste yapalım.\n",
    "\n",
    "ornek_liste = [15, 21, 32, 6, 17]\n"
   ]
  },
  {
   "cell_type": "markdown",
   "metadata": {},
   "source": [
    "### <font color=Green>For</font>"
   ]
  },
  {
   "cell_type": "code",
   "execution_count": 2,
   "metadata": {},
   "outputs": [
    {
     "name": "stdout",
     "output_type": "stream",
     "text": [
      "15\n",
      "21\n",
      "32\n",
      "6\n",
      "17\n",
      "Liste yazdırma bitti..!\n"
     ]
    }
   ],
   "source": [
    "# listedeki her elemanı yazdıralım.\n",
    "for eleman in ornek_liste: \n",
    "    print(eleman)\n",
    "print('Liste yazdırma bitti..!')"
   ]
  },
  {
   "cell_type": "markdown",
   "metadata": {},
   "source": [
    "### < Enumerate() > fonksiyonu"
   ]
  },
  {
   "cell_type": "code",
   "execution_count": 3,
   "metadata": {},
   "outputs": [],
   "source": [
    "ornek_liste_2 = [\"İstanbul\", \"Adana\", \"Ankara\", \"Edirne\", \"Van\", \"İzmir\", \"Eskişehir\", \"Antalya\"]"
   ]
  },
  {
   "cell_type": "code",
   "execution_count": 4,
   "metadata": {
    "scrolled": true
   },
   "outputs": [
    {
     "name": "stdout",
     "output_type": "stream",
     "text": [
      "0 İstanbul\n",
      "1 Adana\n",
      "2 Ankara\n",
      "3 Edirne\n",
      "4 Van\n",
      "5 İzmir\n",
      "6 Eskişehir\n",
      "7 Antalya\n"
     ]
    }
   ],
   "source": [
    "for index,eleman in enumerate(ornek_liste_2):\n",
    "    print(index,eleman)"
   ]
  },
  {
   "cell_type": "markdown",
   "metadata": {},
   "source": [
    "### <font color=Green>While</font>"
   ]
  },
  {
   "cell_type": "code",
   "execution_count": 5,
   "metadata": {},
   "outputs": [
    {
     "name": "stdout",
     "output_type": "stream",
     "text": [
      "Sayı: 0\n",
      "Sayı: 1\n",
      "Sayı: 2\n",
      "Sayı: 3\n",
      "Sayı: 4\n",
      "Sayı: 5\n",
      "Sayı: 6\n",
      "Sayı: 7\n",
      "Sayı: 8\n",
      "Sayı: 9\n"
     ]
    }
   ],
   "source": [
    "val = 0\n",
    "while val < 10:\n",
    "    print(\"Sayı:\",val)\n",
    "    val += 1"
   ]
  },
  {
   "cell_type": "markdown",
   "metadata": {},
   "source": [
    "# Örnek-1\n",
    "##### Metindeki kelimelerin sıklıklarını gösteren bir fonksiyon oluşturunuz. \n"
   ]
  },
  {
   "cell_type": "code",
   "execution_count": 6,
   "metadata": {},
   "outputs": [
    {
     "name": "stdout",
     "output_type": "stream",
     "text": [
      "Bir zamanlar bir yolcu dağların derinliklerinde, kalın bir kar tabakasıyla kaplı az kullanılan bir patikada tek başına yürüyordu. Kar giderek daha derinleşiyor, yol giderek daha tehlikeli olmaya başlıyordu. Sonunda yolcu soğuğa dayanamayacak hale geldi ve yere yığıldı. Şansı varmış ki, aynı yoldan ikinci bir yolcu geçti ve diğerinin durumunu görünce çok üzüldü. Onu kaldırdı ve kendine getirecek bir şeyler verdi. Daha sonra ilk yolcu, yeni gelenin elini ellerinin arasına aldı ve ona olan borcunu yaşadığı sürece unutmayacağına dair yemin etti. Diğeri hafifçe gülümsedi ve bir şey söylemedi. İlk yolcu, daha sonra eve ulaştığında bu olanları herkese anlatacağını söyledi. Bu insancıl davranışı her tarafta anla­tacak, geleceğe kalması için yazıya ve dizelere dökecekti. Diğeri bir kez daha gülümsedi ve bir şey söylemedi. Birlikte yollarım hızla devam ettiler ama patika gittikçe daha tehlikeli bir hale geldi, kar derinleşti ve yolculardan biri tökezledi. Bir çığlık atarak yanındakinin elini kavradı ve ikisi birlikte dipsiz bir uçuruma yuvarlanıp kayboldular. On bin yıl da geçse, hiç kimsenin onların yazgısından haberi olmayacak -hele ikinci yolcunun büyük iyiliğinden.\n"
     ]
    }
   ],
   "source": [
    "metin = \"Bir zamanlar bir yolcu dağların derinliklerinde, kalın bir kar tabakasıyla kaplı az kullanılan bir patikada tek başına yürüyordu. Kar giderek daha derinleşiyor, yol giderek daha tehlikeli olmaya başlıyordu. Sonunda yolcu soğuğa dayanamayacak hale geldi ve yere yığıldı. Şansı varmış ki, aynı yoldan ikinci bir yolcu geçti ve diğerinin durumunu görünce çok üzüldü. Onu kaldırdı ve kendine getirecek bir şeyler verdi. Daha sonra ilk yolcu, yeni gelenin elini ellerinin arasına aldı ve ona olan borcunu yaşadığı sürece unutmayacağına dair yemin etti. Diğeri hafifçe gülümsedi ve bir şey söylemedi. İlk yolcu, daha sonra eve ulaştığında bu olanları herkese anlatacağını söyledi. Bu insancıl davranışı her tarafta anla­tacak, geleceğe kalması için yazıya ve dizelere dökecekti. Diğeri bir kez daha gülümsedi ve bir şey söylemedi. Birlikte yollarım hızla devam ettiler ama patika gittikçe daha tehlikeli bir hale geldi, kar derinleşti ve yolculardan biri tökezledi. Bir çığlık atarak yanındakinin elini kavradı ve ikisi birlikte dipsiz bir uçuruma yuvarlanıp kayboldular. On bin yıl da geçse, hiç kimsenin onların yazgısından haberi olmayacak -hele ikinci yolcunun büyük iyiliğinden.\"\n",
    "print(metin)"
   ]
  },
  {
   "cell_type": "code",
   "execution_count": null,
   "metadata": {},
   "outputs": [],
   "source": []
  },
  {
   "cell_type": "code",
   "execution_count": null,
   "metadata": {},
   "outputs": [],
   "source": []
  },
  {
   "cell_type": "code",
   "execution_count": 7,
   "metadata": {},
   "outputs": [],
   "source": [
    "# noktalama işaretlerinden kurtulma\n",
    "\n",
    "for harf in \".,-!?*_\":\n",
    "    metin = metin.replace(harf,\" \")"
   ]
  },
  {
   "cell_type": "code",
   "execution_count": 8,
   "metadata": {},
   "outputs": [
    {
     "name": "stdout",
     "output_type": "stream",
     "text": [
      "Bir zamanlar bir yolcu dağların derinliklerinde  kalın bir kar tabakasıyla kaplı az kullanılan bir patikada tek başına yürüyordu  Kar giderek daha derinleşiyor  yol giderek daha tehlikeli olmaya başlıyordu  Sonunda yolcu soğuğa dayanamayacak hale geldi ve yere yığıldı  Şansı varmış ki  aynı yoldan ikinci bir yolcu geçti ve diğerinin durumunu görünce çok üzüldü  Onu kaldırdı ve kendine getirecek bir şeyler verdi  Daha sonra ilk yolcu  yeni gelenin elini ellerinin arasına aldı ve ona olan borcunu yaşadığı sürece unutmayacağına dair yemin etti  Diğeri hafifçe gülümsedi ve bir şey söylemedi  İlk yolcu  daha sonra eve ulaştığında bu olanları herkese anlatacağını söyledi  Bu insancıl davranışı her tarafta anla­tacak  geleceğe kalması için yazıya ve dizelere dökecekti  Diğeri bir kez daha gülümsedi ve bir şey söylemedi  Birlikte yollarım hızla devam ettiler ama patika gittikçe daha tehlikeli bir hale geldi  kar derinleşti ve yolculardan biri tökezledi  Bir çığlık atarak yanındakinin elini kavradı ve ikisi birlikte dipsiz bir uçuruma yuvarlanıp kayboldular  On bin yıl da geçse  hiç kimsenin onların yazgısından haberi olmayacak  hele ikinci yolcunun büyük iyiliğinden \n"
     ]
    }
   ],
   "source": [
    "print(metin)"
   ]
  },
  {
   "cell_type": "code",
   "execution_count": 9,
   "metadata": {},
   "outputs": [],
   "source": [
    "metin = metin.replace(\"  \",\" \")"
   ]
  },
  {
   "cell_type": "code",
   "execution_count": null,
   "metadata": {},
   "outputs": [],
   "source": []
  },
  {
   "cell_type": "code",
   "execution_count": 10,
   "metadata": {},
   "outputs": [],
   "source": [
    "kelimeler = metin.lower().split(\" \")"
   ]
  },
  {
   "cell_type": "code",
   "execution_count": 11,
   "metadata": {},
   "outputs": [
    {
     "name": "stdout",
     "output_type": "stream",
     "text": [
      "['bir', 'zamanlar', 'bir', 'yolcu', 'dağların', 'derinliklerinde', 'kalın', 'bir', 'kar', 'tabakasıyla', 'kaplı', 'az', 'kullanılan', 'bir', 'patikada', 'tek', 'başına', 'yürüyordu', 'kar', 'giderek', 'daha', 'derinleşiyor', 'yol', 'giderek', 'daha', 'tehlikeli', 'olmaya', 'başlıyordu', 'sonunda', 'yolcu', 'soğuğa', 'dayanamayacak', 'hale', 'geldi', 've', 'yere', 'yığıldı', 'şansı', 'varmış', 'ki', 'aynı', 'yoldan', 'ikinci', 'bir', 'yolcu', 'geçti', 've', 'diğerinin', 'durumunu', 'görünce', 'çok', 'üzüldü', 'onu', 'kaldırdı', 've', 'kendine', 'getirecek', 'bir', 'şeyler', 'verdi', 'daha', 'sonra', 'ilk', 'yolcu', 'yeni', 'gelenin', 'elini', 'ellerinin', 'arasına', 'aldı', 've', 'ona', 'olan', 'borcunu', 'yaşadığı', 'sürece', 'unutmayacağına', 'dair', 'yemin', 'etti', 'diğeri', 'hafifçe', 'gülümsedi', 've', 'bir', 'şey', 'söylemedi', 'i̇lk', 'yolcu', 'daha', 'sonra', 'eve', 'ulaştığında', 'bu', 'olanları', 'herkese', 'anlatacağını', 'söyledi', 'bu', 'insancıl', 'davranışı', 'her', 'tarafta', 'anla\\xadtacak', 'geleceğe', 'kalması', 'için', 'yazıya', 've', 'dizelere', 'dökecekti', 'diğeri', 'bir', 'kez', 'daha', 'gülümsedi', 've', 'bir', 'şey', 'söylemedi', 'birlikte', 'yollarım', 'hızla', 'devam', 'ettiler', 'ama', 'patika', 'gittikçe', 'daha', 'tehlikeli', 'bir', 'hale', 'geldi', 'kar', 'derinleşti', 've', 'yolculardan', 'biri', 'tökezledi', 'bir', 'çığlık', 'atarak', 'yanındakinin', 'elini', 'kavradı', 've', 'ikisi', 'birlikte', 'dipsiz', 'bir', 'uçuruma', 'yuvarlanıp', 'kayboldular', 'on', 'bin', 'yıl', 'da', 'geçse', 'hiç', 'kimsenin', 'onların', 'yazgısından', 'haberi', 'olmayacak', 'hele', 'ikinci', 'yolcunun', 'büyük', 'iyiliğinden', '']\n"
     ]
    }
   ],
   "source": [
    "print(kelimeler)"
   ]
  },
  {
   "cell_type": "code",
   "execution_count": 12,
   "metadata": {},
   "outputs": [
    {
     "name": "stdout",
     "output_type": "stream",
     "text": [
      "['bir', 'zamanlar', 'yolcu', 'dağların', 'derinliklerinde', 'kalın', 'kar', 'tabakasıyla', 'kaplı', 'az', 'kullanılan', 'patikada', 'tek', 'başına', 'yürüyordu', 'giderek', 'daha', 'derinleşiyor', 'yol', 'tehlikeli', 'olmaya', 'başlıyordu', 'sonunda', 'soğuğa', 'dayanamayacak', 'hale', 'geldi', 've', 'yere', 'yığıldı', 'şansı', 'varmış', 'ki', 'aynı', 'yoldan', 'ikinci', 'geçti', 'diğerinin', 'durumunu', 'görünce', 'çok', 'üzüldü', 'onu', 'kaldırdı', 'kendine', 'getirecek', 'şeyler', 'verdi', 'sonra', 'ilk', 'yeni', 'gelenin', 'elini', 'ellerinin', 'arasına', 'aldı', 'ona', 'olan', 'borcunu', 'yaşadığı', 'sürece', 'unutmayacağına', 'dair', 'yemin', 'etti', 'diğeri', 'hafifçe', 'gülümsedi', 'şey', 'söylemedi', 'i̇lk', 'eve', 'ulaştığında', 'bu', 'olanları', 'herkese', 'anlatacağını', 'söyledi', 'insancıl', 'davranışı', 'her', 'tarafta', 'anla\\xadtacak', 'geleceğe', 'kalması', 'için', 'yazıya', 'dizelere', 'dökecekti', 'kez', 'birlikte', 'yollarım', 'hızla', 'devam', 'ettiler', 'ama', 'patika', 'gittikçe', 'derinleşti', 'yolculardan', 'biri', 'tökezledi', 'çığlık', 'atarak', 'yanındakinin', 'kavradı', 'ikisi', 'dipsiz', 'uçuruma', 'yuvarlanıp', 'kayboldular', 'on', 'bin', 'yıl', 'da', 'geçse', 'hiç', 'kimsenin', 'onların', 'yazgısından', 'haberi', 'olmayacak', 'hele', 'yolcunun', 'büyük', 'iyiliğinden']\n"
     ]
    }
   ],
   "source": [
    "kelime_listesi = []\n",
    "\n",
    "for kelime in kelimeler:\n",
    "    if kelime not in kelime_listesi:\n",
    "        if kelime != \"\":\n",
    "            kelime_listesi.append(kelime)\n",
    "print(kelime_listesi)"
   ]
  },
  {
   "cell_type": "code",
   "execution_count": null,
   "metadata": {},
   "outputs": [],
   "source": []
  },
  {
   "cell_type": "code",
   "execution_count": 13,
   "metadata": {},
   "outputs": [
    {
     "name": "stdout",
     "output_type": "stream",
     "text": [
      "0 bir adet: 12\n",
      "1 zamanlar adet: 1\n",
      "2 yolcu adet: 5\n",
      "3 dağların adet: 1\n",
      "4 derinliklerinde adet: 1\n",
      "5 kalın adet: 1\n",
      "6 kar adet: 3\n",
      "7 tabakasıyla adet: 1\n",
      "8 kaplı adet: 1\n",
      "9 az adet: 1\n",
      "10 kullanılan adet: 1\n",
      "11 patikada adet: 1\n",
      "12 tek adet: 1\n",
      "13 başına adet: 1\n",
      "14 yürüyordu adet: 1\n",
      "15 giderek adet: 2\n",
      "16 daha adet: 6\n",
      "17 derinleşiyor adet: 1\n",
      "18 yol adet: 1\n",
      "19 tehlikeli adet: 2\n",
      "20 olmaya adet: 1\n",
      "21 başlıyordu adet: 1\n",
      "22 sonunda adet: 1\n",
      "23 soğuğa adet: 1\n",
      "24 dayanamayacak adet: 1\n",
      "25 hale adet: 2\n",
      "26 geldi adet: 2\n",
      "27 ve adet: 9\n",
      "28 yere adet: 1\n",
      "29 yığıldı adet: 1\n",
      "30 şansı adet: 1\n",
      "31 varmış adet: 1\n",
      "32 ki adet: 1\n",
      "33 aynı adet: 1\n",
      "34 yoldan adet: 1\n",
      "35 ikinci adet: 2\n",
      "36 geçti adet: 1\n",
      "37 diğerinin adet: 1\n",
      "38 durumunu adet: 1\n",
      "39 görünce adet: 1\n",
      "40 çok adet: 1\n",
      "41 üzüldü adet: 1\n",
      "42 onu adet: 1\n",
      "43 kaldırdı adet: 1\n",
      "44 kendine adet: 1\n",
      "45 getirecek adet: 1\n",
      "46 şeyler adet: 1\n",
      "47 verdi adet: 1\n",
      "48 sonra adet: 2\n",
      "49 ilk adet: 1\n",
      "50 yeni adet: 1\n",
      "51 gelenin adet: 1\n",
      "52 elini adet: 2\n",
      "53 ellerinin adet: 1\n",
      "54 arasına adet: 1\n",
      "55 aldı adet: 1\n",
      "56 ona adet: 1\n",
      "57 olan adet: 1\n",
      "58 borcunu adet: 1\n",
      "59 yaşadığı adet: 1\n",
      "60 sürece adet: 1\n",
      "61 unutmayacağına adet: 1\n",
      "62 dair adet: 1\n",
      "63 yemin adet: 1\n",
      "64 etti adet: 1\n",
      "65 diğeri adet: 2\n",
      "66 hafifçe adet: 1\n",
      "67 gülümsedi adet: 2\n",
      "68 şey adet: 2\n",
      "69 söylemedi adet: 2\n",
      "70 i̇lk adet: 1\n",
      "71 eve adet: 1\n",
      "72 ulaştığında adet: 1\n",
      "73 bu adet: 2\n",
      "74 olanları adet: 1\n",
      "75 herkese adet: 1\n",
      "76 anlatacağını adet: 1\n",
      "77 söyledi adet: 1\n",
      "78 insancıl adet: 1\n",
      "79 davranışı adet: 1\n",
      "80 her adet: 1\n",
      "81 tarafta adet: 1\n",
      "82 anla­tacak adet: 1\n",
      "83 geleceğe adet: 1\n",
      "84 kalması adet: 1\n",
      "85 için adet: 1\n",
      "86 yazıya adet: 1\n",
      "87 dizelere adet: 1\n",
      "88 dökecekti adet: 1\n",
      "89 kez adet: 1\n",
      "90 birlikte adet: 2\n",
      "91 yollarım adet: 1\n",
      "92 hızla adet: 1\n",
      "93 devam adet: 1\n",
      "94 ettiler adet: 1\n",
      "95 ama adet: 1\n",
      "96 patika adet: 1\n",
      "97 gittikçe adet: 1\n",
      "98 derinleşti adet: 1\n",
      "99 yolculardan adet: 1\n",
      "100 biri adet: 1\n",
      "101 tökezledi adet: 1\n",
      "102 çığlık adet: 1\n",
      "103 atarak adet: 1\n",
      "104 yanındakinin adet: 1\n",
      "105 kavradı adet: 1\n",
      "106 ikisi adet: 1\n",
      "107 dipsiz adet: 1\n",
      "108 uçuruma adet: 1\n",
      "109 yuvarlanıp adet: 1\n",
      "110 kayboldular adet: 1\n",
      "111 on adet: 1\n",
      "112 bin adet: 1\n",
      "113 yıl adet: 1\n",
      "114 da adet: 1\n",
      "115 geçse adet: 1\n",
      "116 hiç adet: 1\n",
      "117 kimsenin adet: 1\n",
      "118 onların adet: 1\n",
      "119 yazgısından adet: 1\n",
      "120 haberi adet: 1\n",
      "121 olmayacak adet: 1\n",
      "122 hele adet: 1\n",
      "123 yolcunun adet: 1\n",
      "124 büyük adet: 1\n",
      "125 iyiliğinden adet: 1\n"
     ]
    }
   ],
   "source": [
    "for index,kelime in enumerate(kelime_listesi):\n",
    "    print(index, kelime, \"adet:\",kelimeler.count(kelime))\n",
    "    "
   ]
  },
  {
   "cell_type": "markdown",
   "metadata": {},
   "source": [
    "# \" Dict \" "
   ]
  },
  {
   "cell_type": "markdown",
   "metadata": {},
   "source": [
    "Dictionary listeye çok benzer fakat farklı olarak listedeki gibi sayı olarak +- indexleme yoktur. **key(Anahtar)** ve **value(değer)** şeklinde oluşturulur. \n",
    "    \n",
    "    \n",
    "    "
   ]
  },
  {
   "cell_type": "markdown",
   "metadata": {},
   "source": [
    "* get()\n",
    "* len()\n",
    "* pop()\n",
    "* del()\n"
   ]
  },
  {
   "cell_type": "code",
   "execution_count": 14,
   "metadata": {},
   "outputs": [
    {
     "name": "stdout",
     "output_type": "stream",
     "text": [
      "{}\n"
     ]
    }
   ],
   "source": [
    "my_dict = dict()\n",
    "print(my_dict)"
   ]
  },
  {
   "cell_type": "code",
   "execution_count": 15,
   "metadata": {},
   "outputs": [
    {
     "name": "stdout",
     "output_type": "stream",
     "text": [
      "{'birinci': 4, 'ikinci': 2, 'altıncı': 6}\n"
     ]
    }
   ],
   "source": [
    "my_dict[\"birinci\"] = 4\n",
    "my_dict[\"ikinci\"] = 2\n",
    "my_dict[\"altıncı\"] = 6\n",
    "print(my_dict)"
   ]
  },
  {
   "cell_type": "code",
   "execution_count": 16,
   "metadata": {},
   "outputs": [
    {
     "name": "stdout",
     "output_type": "stream",
     "text": [
      "{'birinci': 4, 'ikinci': 2, 'altıncı': 6, 'yedinci': 3}\n"
     ]
    }
   ],
   "source": [
    "my_dict[\"yedinci\"] = my_dict.get(\"yedinci\",3)\n",
    "print(my_dict)"
   ]
  },
  {
   "cell_type": "code",
   "execution_count": 17,
   "metadata": {},
   "outputs": [
    {
     "data": {
      "text/plain": [
       "4"
      ]
     },
     "execution_count": 17,
     "metadata": {},
     "output_type": "execute_result"
    }
   ],
   "source": [
    "len(my_dict)"
   ]
  },
  {
   "cell_type": "code",
   "execution_count": 18,
   "metadata": {},
   "outputs": [
    {
     "name": "stdout",
     "output_type": "stream",
     "text": [
      "2\n",
      "{'birinci': 4, 'altıncı': 6, 'yedinci': 3}\n",
      "{'birinci': 4, 'altıncı': 6, 'yedinci': 3, 'ikinci': 17}\n"
     ]
    }
   ],
   "source": [
    "a = my_dict.pop(\"ikinci\")\n",
    "print(a)\n",
    "print(my_dict)\n",
    "my_dict[\"ikinci\"] = a+15\n",
    "print(my_dict)"
   ]
  },
  {
   "cell_type": "code",
   "execution_count": 19,
   "metadata": {},
   "outputs": [
    {
     "name": "stdout",
     "output_type": "stream",
     "text": [
      "{'altıncı': 6, 'yedinci': 3, 'ikinci': 17}\n"
     ]
    }
   ],
   "source": [
    "del my_dict[\"birinci\"]\n",
    "\n",
    "print(my_dict)"
   ]
  },
  {
   "cell_type": "code",
   "execution_count": 20,
   "metadata": {},
   "outputs": [
    {
     "name": "stdout",
     "output_type": "stream",
     "text": [
      "altıncı 6\n",
      "yedinci 3\n",
      "ikinci 17\n"
     ]
    }
   ],
   "source": [
    "for key in my_dict.keys():\n",
    "    print(key,my_dict[key])"
   ]
  },
  {
   "cell_type": "code",
   "execution_count": 21,
   "metadata": {},
   "outputs": [
    {
     "name": "stdout",
     "output_type": "stream",
     "text": [
      "['bir', 'zamanlar', 'yolcu', 'dağların', 'derinliklerinde', 'kalın', 'kar', 'tabakasıyla', 'kaplı', 'az', 'kullanılan', 'patikada', 'tek', 'başına', 'yürüyordu', 'giderek', 'daha', 'derinleşiyor', 'yol', 'tehlikeli', 'olmaya', 'başlıyordu', 'sonunda', 'soğuğa', 'dayanamayacak', 'hale', 'geldi', 've', 'yere', 'yığıldı', 'şansı', 'varmış', 'ki', 'aynı', 'yoldan', 'ikinci', 'geçti', 'diğerinin', 'durumunu', 'görünce', 'çok', 'üzüldü', 'onu', 'kaldırdı', 'kendine', 'getirecek', 'şeyler', 'verdi', 'sonra', 'ilk', 'yeni', 'gelenin', 'elini', 'ellerinin', 'arasına', 'aldı', 'ona', 'olan', 'borcunu', 'yaşadığı', 'sürece', 'unutmayacağına', 'dair', 'yemin', 'etti', 'diğeri', 'hafifçe', 'gülümsedi', 'şey', 'söylemedi', 'i̇lk', 'eve', 'ulaştığında', 'bu', 'olanları', 'herkese', 'anlatacağını', 'söyledi', 'insancıl', 'davranışı', 'her', 'tarafta', 'anla\\xadtacak', 'geleceğe', 'kalması', 'için', 'yazıya', 'dizelere', 'dökecekti', 'kez', 'birlikte', 'yollarım', 'hızla', 'devam', 'ettiler', 'ama', 'patika', 'gittikçe', 'derinleşti', 'yolculardan', 'biri', 'tökezledi', 'çığlık', 'atarak', 'yanındakinin', 'kavradı', 'ikisi', 'dipsiz', 'uçuruma', 'yuvarlanıp', 'kayboldular', 'on', 'bin', 'yıl', 'da', 'geçse', 'hiç', 'kimsenin', 'onların', 'yazgısından', 'haberi', 'olmayacak', 'hele', 'yolcunun', 'büyük', 'iyiliğinden']\n",
      "['bir', 'zamanlar', 'yolcu', 'dağların', 'derinliklerinde', 'kalın', 'kar', 'tabakasıyla', 'kaplı', 'az', 'kullanılan', 'patikada', 'tek', 'başına', 'yürüyordu', 'giderek', 'daha', 'derinleşiyor', 'yol', 'tehlikeli', 'olmaya', 'başlıyordu', 'sonunda', 'soğuğa', 'dayanamayacak', 'hale', 'geldi', 've', 'yere', 'yığıldı', 'şansı', 'varmış', 'ki', 'aynı', 'yoldan', 'ikinci', 'geçti', 'diğerinin', 'durumunu', 'görünce', 'çok', 'üzüldü', 'onu', 'kaldırdı', 'kendine', 'getirecek', 'şeyler', 'verdi', 'sonra', 'ilk', 'yeni', 'gelenin', 'elini', 'ellerinin', 'arasına', 'aldı', 'ona', 'olan', 'borcunu', 'yaşadığı', 'sürece', 'unutmayacağına', 'dair', 'yemin', 'etti', 'diğeri', 'hafifçe', 'gülümsedi', 'şey', 'söylemedi', 'i̇lk', 'eve', 'ulaştığında', 'bu', 'olanları', 'herkese', 'anlatacağını', 'söyledi', 'insancıl', 'davranışı', 'her', 'tarafta', 'anla\\xadtacak', 'geleceğe', 'kalması', 'için', 'yazıya', 'dizelere', 'dökecekti', 'kez', 'birlikte', 'yollarım', 'hızla', 'devam', 'ettiler', 'ama', 'patika', 'gittikçe', 'derinleşti', 'yolculardan', 'biri', 'tökezledi', 'çığlık', 'atarak', 'yanındakinin', 'kavradı', 'ikisi', 'dipsiz', 'uçuruma', 'yuvarlanıp', 'kayboldular', 'on', 'bin', 'yıl', 'da', 'geçse', 'hiç', 'kimsenin', 'onların', 'yazgısından', 'haberi', 'olmayacak', 'hele', 'yolcunun', 'büyük', 'iyiliğinden']\n"
     ]
    }
   ],
   "source": [
    "print(kelime_listesi)\n",
    "kelime_listesi_sorted = sorted(kelime_listesi)\n",
    "print(kelime_listesi)"
   ]
  },
  {
   "cell_type": "markdown",
   "metadata": {},
   "source": [
    "#Dictionary örnek"
   ]
  },
  {
   "cell_type": "code",
   "execution_count": 23,
   "metadata": {},
   "outputs": [
    {
     "name": "stdout",
     "output_type": "stream",
     "text": [
      "{'bir': 12, 'zamanlar': 1, 'yolcu': 5, 'dağların': 1, 'derinliklerinde': 1, 'kalın': 1, 'kar': 3, 'tabakasıyla': 1, 'kaplı': 1, 'az': 1, 'kullanılan': 1, 'patikada': 1, 'tek': 1, 'başına': 1, 'yürüyordu': 1, 'giderek': 2, 'daha': 6, 'derinleşiyor': 1, 'yol': 1, 'tehlikeli': 2, 'olmaya': 1, 'başlıyordu': 1, 'sonunda': 1, 'soğuğa': 1, 'dayanamayacak': 1, 'hale': 2, 'geldi': 2, 've': 9, 'yere': 1, 'yığıldı': 1, 'şansı': 1, 'varmış': 1, 'ki': 1, 'aynı': 1, 'yoldan': 1, 'ikinci': 2, 'geçti': 1, 'diğerinin': 1, 'durumunu': 1, 'görünce': 1, 'çok': 1, 'üzüldü': 1, 'onu': 1, 'kaldırdı': 1, 'kendine': 1, 'getirecek': 1, 'şeyler': 1, 'verdi': 1, 'sonra': 2, 'ilk': 1, 'yeni': 1, 'gelenin': 1, 'elini': 2, 'ellerinin': 1, 'arasına': 1, 'aldı': 1, 'ona': 1, 'olan': 1, 'borcunu': 1, 'yaşadığı': 1, 'sürece': 1, 'unutmayacağına': 1, 'dair': 1, 'yemin': 1, 'etti': 1, 'diğeri': 2, 'hafifçe': 1, 'gülümsedi': 2, 'şey': 2, 'söylemedi': 2, 'i̇lk': 1, 'eve': 1, 'ulaştığında': 1, 'bu': 2, 'olanları': 1, 'herkese': 1, 'anlatacağını': 1, 'söyledi': 1, 'insancıl': 1, 'davranışı': 1, 'her': 1, 'tarafta': 1, 'anla\\xadtacak': 1, 'geleceğe': 1, 'kalması': 1, 'için': 1, 'yazıya': 1, 'dizelere': 1, 'dökecekti': 1, 'kez': 1, 'birlikte': 2, 'yollarım': 1, 'hızla': 1, 'devam': 1, 'ettiler': 1, 'ama': 1, 'patika': 1, 'gittikçe': 1, 'derinleşti': 1, 'yolculardan': 1, 'biri': 1, 'tökezledi': 1, 'çığlık': 1, 'atarak': 1, 'yanındakinin': 1, 'kavradı': 1, 'ikisi': 1, 'dipsiz': 1, 'uçuruma': 1, 'yuvarlanıp': 1, 'kayboldular': 1, 'on': 1, 'bin': 1, 'yıl': 1, 'da': 1, 'geçse': 1, 'hiç': 1, 'kimsenin': 1, 'onların': 1, 'yazgısından': 1, 'haberi': 1, 'olmayacak': 1, 'hele': 1, 'yolcunun': 1, 'büyük': 1, 'iyiliğinden': 1}\n"
     ]
    }
   ],
   "source": [
    "sozluk = {}\n",
    "\n",
    "for kelime in kelime_listesi:\n",
    "    sozluk[kelime] = kelimeler.count(kelime)\n",
    "print(sozluk)"
   ]
  },
  {
   "cell_type": "code",
   "execution_count": 24,
   "metadata": {},
   "outputs": [
    {
     "name": "stdout",
     "output_type": "stream",
     "text": [
      "[(12, 'bir'), (1, 'zamanlar'), (5, 'yolcu'), (1, 'dağların'), (1, 'derinliklerinde'), (1, 'kalın'), (3, 'kar'), (1, 'tabakasıyla'), (1, 'kaplı'), (1, 'az'), (1, 'kullanılan'), (1, 'patikada'), (1, 'tek'), (1, 'başına'), (1, 'yürüyordu'), (2, 'giderek'), (6, 'daha'), (1, 'derinleşiyor'), (1, 'yol'), (2, 'tehlikeli'), (1, 'olmaya'), (1, 'başlıyordu'), (1, 'sonunda'), (1, 'soğuğa'), (1, 'dayanamayacak'), (2, 'hale'), (2, 'geldi'), (9, 've'), (1, 'yere'), (1, 'yığıldı'), (1, 'şansı'), (1, 'varmış'), (1, 'ki'), (1, 'aynı'), (1, 'yoldan'), (2, 'ikinci'), (1, 'geçti'), (1, 'diğerinin'), (1, 'durumunu'), (1, 'görünce'), (1, 'çok'), (1, 'üzüldü'), (1, 'onu'), (1, 'kaldırdı'), (1, 'kendine'), (1, 'getirecek'), (1, 'şeyler'), (1, 'verdi'), (2, 'sonra'), (1, 'ilk'), (1, 'yeni'), (1, 'gelenin'), (2, 'elini'), (1, 'ellerinin'), (1, 'arasına'), (1, 'aldı'), (1, 'ona'), (1, 'olan'), (1, 'borcunu'), (1, 'yaşadığı'), (1, 'sürece'), (1, 'unutmayacağına'), (1, 'dair'), (1, 'yemin'), (1, 'etti'), (2, 'diğeri'), (1, 'hafifçe'), (2, 'gülümsedi'), (2, 'şey'), (2, 'söylemedi'), (1, 'i̇lk'), (1, 'eve'), (1, 'ulaştığında'), (2, 'bu'), (1, 'olanları'), (1, 'herkese'), (1, 'anlatacağını'), (1, 'söyledi'), (1, 'insancıl'), (1, 'davranışı'), (1, 'her'), (1, 'tarafta'), (1, 'anla\\xadtacak'), (1, 'geleceğe'), (1, 'kalması'), (1, 'için'), (1, 'yazıya'), (1, 'dizelere'), (1, 'dökecekti'), (1, 'kez'), (2, 'birlikte'), (1, 'yollarım'), (1, 'hızla'), (1, 'devam'), (1, 'ettiler'), (1, 'ama'), (1, 'patika'), (1, 'gittikçe'), (1, 'derinleşti'), (1, 'yolculardan'), (1, 'biri'), (1, 'tökezledi'), (1, 'çığlık'), (1, 'atarak'), (1, 'yanındakinin'), (1, 'kavradı'), (1, 'ikisi'), (1, 'dipsiz'), (1, 'uçuruma'), (1, 'yuvarlanıp'), (1, 'kayboldular'), (1, 'on'), (1, 'bin'), (1, 'yıl'), (1, 'da'), (1, 'geçse'), (1, 'hiç'), (1, 'kimsenin'), (1, 'onların'), (1, 'yazgısından'), (1, 'haberi'), (1, 'olmayacak'), (1, 'hele'), (1, 'yolcunun'), (1, 'büyük'), (1, 'iyiliğinden')]\n"
     ]
    }
   ],
   "source": [
    "sozluk_frekansi = []\n",
    "for key, value in sozluk.items():\n",
    "    sozluk_frekansi.append((value, key))\n",
    "print(sozluk_frekansi)"
   ]
  },
  {
   "cell_type": "code",
   "execution_count": 25,
   "metadata": {},
   "outputs": [
    {
     "name": "stdout",
     "output_type": "stream",
     "text": [
      "[(12, 'bir'), (9, 've'), (6, 'daha'), (5, 'yolcu'), (3, 'kar'), (2, 'şey'), (2, 'tehlikeli'), (2, 'söylemedi'), (2, 'sonra'), (2, 'ikinci'), (2, 'hale'), (2, 'gülümsedi'), (2, 'giderek'), (2, 'geldi'), (2, 'elini'), (2, 'diğeri'), (2, 'bu'), (2, 'birlikte'), (1, 'şeyler'), (1, 'şansı'), (1, 'üzüldü'), (1, 'çığlık'), (1, 'çok'), (1, 'zamanlar'), (1, 'yığıldı'), (1, 'yıl'), (1, 'yürüyordu'), (1, 'yuvarlanıp'), (1, 'yollarım'), (1, 'yoldan'), (1, 'yolcunun'), (1, 'yolculardan'), (1, 'yol'), (1, 'yere'), (1, 'yeni'), (1, 'yemin'), (1, 'yaşadığı'), (1, 'yazıya'), (1, 'yazgısından'), (1, 'yanındakinin'), (1, 'verdi'), (1, 'varmış'), (1, 'uçuruma'), (1, 'unutmayacağına'), (1, 'ulaştığında'), (1, 'tökezledi'), (1, 'tek'), (1, 'tarafta'), (1, 'tabakasıyla'), (1, 'sürece'), (1, 'söyledi'), (1, 'soğuğa'), (1, 'sonunda'), (1, 'patikada'), (1, 'patika'), (1, 'onu'), (1, 'onların'), (1, 'ona'), (1, 'on'), (1, 'olmayacak'), (1, 'olmaya'), (1, 'olanları'), (1, 'olan'), (1, 'kullanılan'), (1, 'kimsenin'), (1, 'ki'), (1, 'kez'), (1, 'kendine'), (1, 'kayboldular'), (1, 'kavradı'), (1, 'kaplı'), (1, 'kalın'), (1, 'kalması'), (1, 'kaldırdı'), (1, 'i̇lk'), (1, 'için'), (1, 'iyiliğinden'), (1, 'insancıl'), (1, 'ilk'), (1, 'ikisi'), (1, 'hızla'), (1, 'hiç'), (1, 'herkese'), (1, 'her'), (1, 'hele'), (1, 'hafifçe'), (1, 'haberi'), (1, 'görünce'), (1, 'gittikçe'), (1, 'geçti'), (1, 'geçse'), (1, 'getirecek'), (1, 'gelenin'), (1, 'geleceğe'), (1, 'eve'), (1, 'ettiler'), (1, 'etti'), (1, 'ellerinin'), (1, 'dökecekti'), (1, 'durumunu'), (1, 'diğerinin'), (1, 'dizelere'), (1, 'dipsiz'), (1, 'devam'), (1, 'derinliklerinde'), (1, 'derinleşti'), (1, 'derinleşiyor'), (1, 'dağların'), (1, 'dayanamayacak'), (1, 'davranışı'), (1, 'dair'), (1, 'da'), (1, 'büyük'), (1, 'borcunu'), (1, 'biri'), (1, 'bin'), (1, 'başına'), (1, 'başlıyordu'), (1, 'az'), (1, 'aynı'), (1, 'atarak'), (1, 'arasına'), (1, 'anla\\xadtacak'), (1, 'anlatacağını'), (1, 'ama'), (1, 'aldı')]\n"
     ]
    }
   ],
   "source": [
    "sozluk_frekansi.sort(reverse=True)\n",
    "print(sozluk_frekansi)"
   ]
  },
  {
   "cell_type": "code",
   "execution_count": null,
   "metadata": {},
   "outputs": [],
   "source": []
  }
 ],
 "metadata": {
  "kernelspec": {
   "display_name": "Python 3",
   "language": "python",
   "name": "python3"
  },
  "language_info": {
   "codemirror_mode": {
    "name": "ipython",
    "version": 3
   },
   "file_extension": ".py",
   "mimetype": "text/x-python",
   "name": "python",
   "nbconvert_exporter": "python",
   "pygments_lexer": "ipython3",
   "version": "3.10.4"
  }
 },
 "nbformat": 4,
 "nbformat_minor": 4
}
