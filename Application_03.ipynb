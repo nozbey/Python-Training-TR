{
 "cells": [
  {
   "cell_type": "markdown",
   "metadata": {},
   "source": [
    "## önceden kullanıcıdan adeti belirtilmiş sayıda Fibonacci serisini elemanlarını yazdıralım."
   ]
  },
  {
   "cell_type": "code",
   "execution_count": 1,
   "metadata": {},
   "outputs": [
    {
     "name": "stdout",
     "output_type": "stream",
     "text": [
      "0 1 1 2 3 5 8 13 21 34\n"
     ]
    }
   ],
   "source": [
    "# input = 10\n",
    "print(0, 1, 1, 2, 3, 5, 8, 13, 21, 34)"
   ]
  },
  {
   "cell_type": "markdown",
   "metadata": {},
   "source": [
    "* 0 başlangıç değer\n",
    "* 1 başlangıç değer (!= 0+0)\n",
    "* 1 = 1+0\n",
    "* 2 = 1+1 \n",
    "* 3 = 2+1\n",
    "* 5 = 3+2\n",
    "* 8 = 5+3\n",
    "* 13 = 8+5\n",
    "* 21 = 13+8\n",
    "* 34 = 21+13"
   ]
  },
  {
   "cell_type": "code",
   "execution_count": 2,
   "metadata": {},
   "outputs": [
    {
     "name": "stdout",
     "output_type": "stream",
     "text": [
      "Yazdırılacak sayı adetini giriniz:10\n",
      "0\n",
      "1\n",
      "1\n",
      "2\n",
      "3\n",
      "5\n",
      "8\n",
      "13\n",
      "21\n",
      "34\n"
     ]
    }
   ],
   "source": [
    "limit = input(\"Yazdırılacak sayı adetini giriniz:\")\n",
    "x,y = 0,1\n",
    "print(x)\n",
    "print(y)\n",
    "for i in range(2,int(limit)): # zaten 2 adet değer yazdırdığımız için\n",
    "    print(x+y)\n",
    "    x,y = y,x+y   "
   ]
  },
  {
   "cell_type": "code",
   "execution_count": null,
   "metadata": {},
   "outputs": [],
   "source": []
  }
 ],
 "metadata": {
  "kernelspec": {
   "display_name": "Python 3",
   "language": "python",
   "name": "python3"
  },
  "language_info": {
   "codemirror_mode": {
    "name": "ipython",
    "version": 3
   },
   "file_extension": ".py",
   "mimetype": "text/x-python",
   "name": "python",
   "nbconvert_exporter": "python",
   "pygments_lexer": "ipython3",
   "version": "3.8.5"
  }
 },
 "nbformat": 4,
 "nbformat_minor": 4
}
