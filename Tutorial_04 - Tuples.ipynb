{
 "cells": [
  {
   "cell_type": "markdown",
   "metadata": {},
   "source": [
    "# Tuples(Demet): \n",
    "Demet, matematikte öğelerin sonlu sıralı bir dizisidir. Bir n-demeti, n öğeden oluşan bir dizi (veya sıralı listedir), burada n negatif olmayan bir tam sayıdır. Boş demet olarak adlandırılan tek bir 0-demeti vardır."
   ]
  },
  {
   "cell_type": "code",
   "execution_count": 2,
   "metadata": {},
   "outputs": [],
   "source": [
    "# Yöntem 1\n",
    "bos_tuple = ()\n",
    "\n",
    "# Boş bir tuple listesini <tuple> fonksiyonunu kullanarak da tanımlayabilirsiniz.\n",
    "\n",
    "# Yöntem 2\n",
    "bos_tuple = tuple()"
   ]
  },
  {
   "cell_type": "code",
   "execution_count": 3,
   "metadata": {},
   "outputs": [],
   "source": [
    "# Yöntem 1\n",
    "z1 = (5, 7, 11, 1, 2, 4)\n",
    "\n",
    "# Yöntem 2 (tuples parantez olmadan da oluşturulabilirler.)\n",
    "z2 = 3, 7, 4, 4, 3"
   ]
  },
  {
   "cell_type": "code",
   "execution_count": 4,
   "metadata": {},
   "outputs": [
    {
     "name": "stdout",
     "output_type": "stream",
     "text": [
      "z1: (5, 7, 11, 1, 2, 4)\n",
      "z2: (3, 7, 4, 4, 3)\n"
     ]
    }
   ],
   "source": [
    "print(\"z1:\", z1)\n",
    "print(\"z2:\", z2)"
   ]
  },
  {
   "cell_type": "markdown",
   "metadata": {},
   "source": [
    "|  |   |   |   |   |   |   |   |   \n",
    "| --- | --- | --- | --- | --- | --- | --- |--- | \n",
    "|z1 = | 5, | 7, | 11 | 1 | 2 | 4\n",
    "|index = | 0 | 1 | 2 | 3 | 4 | 5 |\n",
    "|zindex = | -6 | -5 | -4 | -3 | -2 | -1 |"
   ]
  },
  {
   "cell_type": "markdown",
   "metadata": {},
   "source": [
    "Tuples ve Listelerin En önemli farkı değiştirilemez(immutable) olmalarıdır."
   ]
  },
  {
   "cell_type": "code",
   "execution_count": 5,
   "metadata": {},
   "outputs": [
    {
     "ename": "TypeError",
     "evalue": "'tuple' object does not support item assignment",
     "output_type": "error",
     "traceback": [
      "\u001b[1;31m---------------------------------------------------------------------------\u001b[0m",
      "\u001b[1;31mTypeError\u001b[0m                                 Traceback (most recent call last)",
      "\u001b[1;32md:\\GITREPO\\Python-Training-TR\\Tutorial_04 - Tuples.ipynb Cell 7\u001b[0m line \u001b[0;36m<cell line: 1>\u001b[1;34m()\u001b[0m\n\u001b[1;32m----> <a href='vscode-notebook-cell:/d%3A/GITREPO/Python-Training-TR/Tutorial_04%20-%20Tuples.ipynb#W6sZmlsZQ%3D%3D?line=0'>1</a>\u001b[0m z2[\u001b[39m0\u001b[39m] \u001b[39m=\u001b[39m \u001b[39m4\u001b[39m\n",
      "\u001b[1;31mTypeError\u001b[0m: 'tuple' object does not support item assignment"
     ]
    }
   ],
   "source": [
    "z2[0] = 4"
   ]
  },
  {
   "cell_type": "code",
   "execution_count": 6,
   "metadata": {},
   "outputs": [
    {
     "name": "stdout",
     "output_type": "stream",
     "text": [
      "5\n",
      "7\n",
      "11\n",
      "1\n",
      "2\n",
      "4\n"
     ]
    }
   ],
   "source": [
    "for item in z1:\n",
    "    print(item)"
   ]
  },
  {
   "cell_type": "code",
   "execution_count": 7,
   "metadata": {},
   "outputs": [
    {
     "data": {
      "text/plain": [
       "(11, 1, 2)"
      ]
     },
     "execution_count": 7,
     "metadata": {},
     "output_type": "execute_result"
    }
   ],
   "source": [
    "z1[-4:-1]"
   ]
  },
  {
   "cell_type": "code",
   "execution_count": 8,
   "metadata": {},
   "outputs": [],
   "source": [
    "z1 += (\"eleman\",) \n",
    "\n",
    "#z1 = z1 + (\"eleman\",)"
   ]
  },
  {
   "cell_type": "code",
   "execution_count": 9,
   "metadata": {},
   "outputs": [
    {
     "name": "stdout",
     "output_type": "stream",
     "text": [
      "(5, 7, 11, 1, 2, 4, 'eleman')\n"
     ]
    }
   ],
   "source": [
    "print(z1)"
   ]
  },
  {
   "cell_type": "markdown",
   "metadata": {},
   "source": [
    "# Tuple Metodları\n"
   ]
  },
  {
   "cell_type": "markdown",
   "metadata": {},
   "source": [
    "### 1- index metodu\n",
    "index metodu kullanıldığında tuple içindeki aranan değerin ilk görüldüğü index değerini gösterir"
   ]
  },
  {
   "cell_type": "code",
   "execution_count": 10,
   "metadata": {},
   "outputs": [
    {
     "name": "stdout",
     "output_type": "stream",
     "text": [
      "6\n",
      "2\n"
     ]
    }
   ],
   "source": [
    "print(z1.index(\"eleman\"))\n",
    "print(z1.index(11))"
   ]
  },
  {
   "cell_type": "markdown",
   "metadata": {},
   "source": [
    "### 2- count metodu\n",
    "\n",
    "count metodu tuple elemanlarından aranan değerin kaç defa tekrar ettiğini gösterir. (Büyük küçük harf duyarlılığı vardır.)"
   ]
  },
  {
   "cell_type": "code",
   "execution_count": 11,
   "metadata": {},
   "outputs": [
    {
     "name": "stdout",
     "output_type": "stream",
     "text": [
      "1\n"
     ]
    }
   ],
   "source": [
    "print(z1.count(\"eleman\"))"
   ]
  },
  {
   "cell_type": "markdown",
   "metadata": {},
   "source": [
    "### 3- döngü ile elemanları yazdırma"
   ]
  },
  {
   "cell_type": "code",
   "execution_count": 12,
   "metadata": {},
   "outputs": [
    {
     "name": "stdout",
     "output_type": "stream",
     "text": [
      "0 5\n",
      "1 7\n",
      "2 11\n",
      "3 1\n",
      "4 2\n",
      "5 4\n",
      "6 eleman\n"
     ]
    }
   ],
   "source": [
    "for eleman in z1:\n",
    "    print(z1.index(eleman), eleman)"
   ]
  },
  {
   "cell_type": "markdown",
   "metadata": {},
   "source": [
    "### 4- Tuple elemanlarını parçalama"
   ]
  },
  {
   "cell_type": "code",
   "execution_count": 13,
   "metadata": {},
   "outputs": [],
   "source": [
    "z2 = (3, 10, 1)"
   ]
  },
  {
   "cell_type": "code",
   "execution_count": 14,
   "metadata": {},
   "outputs": [],
   "source": [
    "x,y,z = z2"
   ]
  },
  {
   "cell_type": "code",
   "execution_count": 15,
   "metadata": {},
   "outputs": [
    {
     "name": "stdout",
     "output_type": "stream",
     "text": [
      " x = 3  \n",
      " y = 10  \n",
      " z = 1 \n"
     ]
    }
   ],
   "source": [
    "print(\" x = {}  \\n y = {}  \\n z = {} \".format(x, y, z))"
   ]
  },
  {
   "cell_type": "markdown",
   "metadata": {},
   "source": [
    "### 5- Enumarate fonksiyonu"
   ]
  },
  {
   "cell_type": "code",
   "execution_count": 16,
   "metadata": {},
   "outputs": [
    {
     "name": "stdout",
     "output_type": "stream",
     "text": [
      "0 Tepebaşı\n",
      "1 Odunpazarı\n",
      "2 Alpu\n",
      "3 Sarıcakaya\n"
     ]
    }
   ],
   "source": [
    "ilceler = ('Tepebaşı', 'Odunpazarı', 'Alpu', 'Sarıcakaya')\n",
    "for index, ilce in enumerate(ilceler):\n",
    "    print(index,ilce)"
   ]
  },
  {
   "cell_type": "markdown",
   "metadata": {},
   "source": [
    "# Tuple Kullanım Kuralları"
   ]
  },
  {
   "cell_type": "markdown",
   "metadata": {},
   "source": [
    "### Tuple Sözlüklerin(Dict) elemanı olabilir."
   ]
  },
  {
   "cell_type": "code",
   "execution_count": 17,
   "metadata": {},
   "outputs": [
    {
     "name": "stdout",
     "output_type": "stream",
     "text": [
      "{('eskisehir', 'icanadolu'): 26, ('ankara', 'icanadolu'): 6, ('istanbul', 'marmara'): 34, ('izmir', 'ege'): 35}\n"
     ]
    }
   ],
   "source": [
    "tuplesozlugu = {('eskisehir', 'icanadolu'): 26,\n",
    "                ('ankara', 'icanadolu'): 6,\n",
    "                ('istanbul', 'marmara'): 34,\n",
    "                ('izmir','ege'): 35}\n",
    "\n",
    "print(tuplesozlugu)"
   ]
  },
  {
   "cell_type": "markdown",
   "metadata": {},
   "source": [
    "### Listeler Sözlüklerin(Dict) elemanı olamaz."
   ]
  },
  {
   "cell_type": "code",
   "execution_count": 18,
   "metadata": {},
   "outputs": [
    {
     "ename": "TypeError",
     "evalue": "unhashable type: 'list'",
     "output_type": "error",
     "traceback": [
      "\u001b[1;31m---------------------------------------------------------------------------\u001b[0m",
      "\u001b[1;31mTypeError\u001b[0m                                 Traceback (most recent call last)",
      "\u001b[1;32md:\\GITREPO\\Python-Training-TR\\Tutorial_04 - Tuples.ipynb Cell 29\u001b[0m line \u001b[0;36m<cell line: 1>\u001b[1;34m()\u001b[0m\n\u001b[1;32m----> <a href='vscode-notebook-cell:/d%3A/GITREPO/Python-Training-TR/Tutorial_04%20-%20Tuples.ipynb#X40sZmlsZQ%3D%3D?line=0'>1</a>\u001b[0m tuplesozlugu \u001b[39m=\u001b[39m {[\u001b[39m'\u001b[39m\u001b[39meskisehir\u001b[39m\u001b[39m'\u001b[39m, \u001b[39m'\u001b[39m\u001b[39micanadolu\u001b[39m\u001b[39m'\u001b[39m]: \u001b[39m26\u001b[39m,\n\u001b[0;32m      <a href='vscode-notebook-cell:/d%3A/GITREPO/Python-Training-TR/Tutorial_04%20-%20Tuples.ipynb#X40sZmlsZQ%3D%3D?line=1'>2</a>\u001b[0m                 [\u001b[39m'\u001b[39m\u001b[39mankara\u001b[39m\u001b[39m'\u001b[39m, \u001b[39m'\u001b[39m\u001b[39micanadolu\u001b[39m\u001b[39m'\u001b[39m]: \u001b[39m6\u001b[39m,\n\u001b[0;32m      <a href='vscode-notebook-cell:/d%3A/GITREPO/Python-Training-TR/Tutorial_04%20-%20Tuples.ipynb#X40sZmlsZQ%3D%3D?line=2'>3</a>\u001b[0m                 [\u001b[39m'\u001b[39m\u001b[39mistanbul\u001b[39m\u001b[39m'\u001b[39m, \u001b[39m'\u001b[39m\u001b[39mmarmara\u001b[39m\u001b[39m'\u001b[39m]: \u001b[39m34\u001b[39m,\n\u001b[0;32m      <a href='vscode-notebook-cell:/d%3A/GITREPO/Python-Training-TR/Tutorial_04%20-%20Tuples.ipynb#X40sZmlsZQ%3D%3D?line=3'>4</a>\u001b[0m                 [\u001b[39m'\u001b[39m\u001b[39mizmir\u001b[39m\u001b[39m'\u001b[39m,\u001b[39m'\u001b[39m\u001b[39mege\u001b[39m\u001b[39m'\u001b[39m]: \u001b[39m35\u001b[39m}\n\u001b[0;32m      <a href='vscode-notebook-cell:/d%3A/GITREPO/Python-Training-TR/Tutorial_04%20-%20Tuples.ipynb#X40sZmlsZQ%3D%3D?line=5'>6</a>\u001b[0m \u001b[39mprint\u001b[39m(tuplesozlugu)\n",
      "\u001b[1;31mTypeError\u001b[0m: unhashable type: 'list'"
     ]
    }
   ],
   "source": [
    "tuplesozlugu = {['eskisehir', 'icanadolu']: 26,\n",
    "                ['ankara', 'icanadolu']: 6,\n",
    "                ['istanbul', 'marmara']: 34,\n",
    "                ['izmir','ege']: 35}\n",
    "\n",
    "print(tuplesozlugu)"
   ]
  },
  {
   "cell_type": "markdown",
   "metadata": {},
   "source": [
    "##### bunun sebebi sözlüklerin hash değeri ile depolanması kaynaklıdır. Tuples değiştirilemediği için hash değeri de sabit olduğundan bir sözlük içerisinde kullanılabilir. Ama liste kullanıldığında listelerin değişme özelliği olduğundan dolayı hash değerinin hesaplamasında da değişikliğe sebep olacağından dolayı kullanılamazlar."
   ]
  },
  {
   "cell_type": "code",
   "execution_count": null,
   "metadata": {},
   "outputs": [],
   "source": []
  },
  {
   "cell_type": "markdown",
   "metadata": {},
   "source": [
    "# Örnek-2\n",
    "##### Bir fonksiyonla önceden kullanıcıdan adeti belirtilmiş Fibonacci serisini yazdıralım. \n"
   ]
  },
  {
   "cell_type": "code",
   "execution_count": 19,
   "metadata": {},
   "outputs": [
    {
     "name": "stdout",
     "output_type": "stream",
     "text": [
      "0 1 1 2 3 5 8 13 21 34\n"
     ]
    }
   ],
   "source": [
    "# input = 10\n",
    "print(0, 1, 1, 2, 3, 5, 8, 13, 21, 34)"
   ]
  },
  {
   "cell_type": "markdown",
   "metadata": {},
   "source": [
    "- 0 başlangıç değer\n",
    "- 1 başlangıç değer (!= 0+0)\n",
    "- 1 = 1+0\n",
    "- 2 = 1+1 \n",
    "- 3 = 2+1\n",
    "- 5 = 3+2\n",
    "- 8 = 5+3"
   ]
  },
  {
   "cell_type": "code",
   "execution_count": 24,
   "metadata": {},
   "outputs": [
    {
     "name": "stdout",
     "output_type": "stream",
     "text": [
      "0\n",
      "1\n",
      "1\n",
      "2\n",
      "3\n",
      "5\n",
      "8\n",
      "13\n",
      "21\n",
      "34\n",
      "55\n",
      "89\n",
      "144\n",
      "233\n",
      "377\n",
      "610\n",
      "987\n",
      "1597\n",
      "2584\n",
      "4181\n"
     ]
    }
   ],
   "source": [
    "limit = input(\"Yazdırılacak sayı adetini giriniz:\")\n",
    "x,y = 0,1\n",
    "print(x)\n",
    "print(y)\n",
    "for i in range(2,int(limit)): # zaten 2 adet değer yazdırdığımız için\n",
    "    print(x+y)\n",
    "    x,y = y,x+y   "
   ]
  },
  {
   "cell_type": "code",
   "execution_count": null,
   "metadata": {},
   "outputs": [],
   "source": []
  }
 ],
 "metadata": {
  "kernelspec": {
   "display_name": "Python 3",
   "language": "python",
   "name": "python3"
  },
  "language_info": {
   "codemirror_mode": {
    "name": "ipython",
    "version": 3
   },
   "file_extension": ".py",
   "mimetype": "text/x-python",
   "name": "python",
   "nbconvert_exporter": "python",
   "pygments_lexer": "ipython3",
   "version": "3.10.4"
  }
 },
 "nbformat": 4,
 "nbformat_minor": 4
}
