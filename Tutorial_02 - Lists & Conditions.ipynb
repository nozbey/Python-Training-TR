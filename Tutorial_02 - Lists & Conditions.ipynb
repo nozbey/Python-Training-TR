{
 "cells": [
  {
   "cell_type": "markdown",
   "metadata": {},
   "source": [
    "### <font color=blue>Kullanıcı girdisi oluşturma </font>\n"
   ]
  },
  {
   "cell_type": "code",
   "execution_count": 1,
   "metadata": {},
   "outputs": [
    {
     "name": "stdout",
     "output_type": "stream",
     "text": [
      "Merhaba Ali\n",
      "Merhaba Ali Beyaz\n"
     ]
    }
   ],
   "source": [
    "name = input(\"isminiz nedir? \")\n",
    "print(\"Merhaba\", name)\n",
    "\n",
    "surname = input(\"soyisminiz nedir? \")\n",
    "print(\"Merhaba\", name, surname)"
   ]
  },
  {
   "cell_type": "markdown",
   "metadata": {},
   "source": [
    "### <font color=blue>Listeler</font>\n"
   ]
  },
  {
   "cell_type": "code",
   "execution_count": 2,
   "metadata": {},
   "outputs": [],
   "source": [
    "eskisehir = [\"Alpu\", \"Beylikova\", \"Çifteler\", \"Günyüzü\", \"Han\", \"İnönü\"]"
   ]
  },
  {
   "cell_type": "markdown",
   "metadata": {},
   "source": [
    "|             |       |            |          |         |     |       |     |\n",
    "| ----------- | ----- | ---------- | -------- | ------- | --- | ----- | --- |\n",
    "| eskisehir = | Alpu, | Beylikova, | Çifteler | Günyüzü | Han | inönü |\n",
    "| index =     | 0     | 1          | 2        | 3       | 4   | 5     |\n",
    "| zindex =    | -6    | -5         | -4       | -3      | -2  | -1    |\n"
   ]
  },
  {
   "cell_type": "code",
   "execution_count": 3,
   "metadata": {},
   "outputs": [
    {
     "name": "stdout",
     "output_type": "stream",
     "text": [
      "['Alpu', 'Beylikova', 'Çifteler', 'Günyüzü', 'Han', 'İnönü']\n",
      "Alpu\n",
      "İnönü\n",
      "['Alpu', 'Beylikova', 'Çifteler']\n",
      "['Çifteler', 'Günyüzü']\n"
     ]
    }
   ],
   "source": [
    "# Tüm liste\n",
    "print(eskisehir)\n",
    "# ilk eleman\n",
    "print(eskisehir[0])\n",
    "# son eleman\n",
    "print(eskisehir[-1])\n",
    "# ilk 3 eleman\n",
    "print(eskisehir[:3])\n",
    "# 2.ile sondan 2. elaman arasındakiler\n",
    "print(eskisehir[2:-2])"
   ]
  },
  {
   "cell_type": "code",
   "execution_count": 4,
   "metadata": {},
   "outputs": [],
   "source": [
    "eskisehir[3] = \"Odunpazarı\""
   ]
  },
  {
   "cell_type": "code",
   "execution_count": 5,
   "metadata": {},
   "outputs": [
    {
     "name": "stdout",
     "output_type": "stream",
     "text": [
      "['Alpu', 'Beylikova', 'Çifteler', 'Odunpazarı', 'Han', 'İnönü']\n"
     ]
    }
   ],
   "source": [
    "print(eskisehir)"
   ]
  },
  {
   "cell_type": "markdown",
   "metadata": {},
   "source": [
    "# Liste Metodları\n"
   ]
  },
  {
   "cell_type": "code",
   "execution_count": 6,
   "metadata": {},
   "outputs": [],
   "source": [
    "my_list = [3, 4, 9, 13, 4, 11, 15, 2, 7, 4, 10, 5]"
   ]
  },
  {
   "cell_type": "markdown",
   "metadata": {},
   "source": [
    "### <font color=red>1) Count() </font>\n"
   ]
  },
  {
   "cell_type": "code",
   "execution_count": 7,
   "metadata": {},
   "outputs": [
    {
     "data": {
      "text/plain": [
       "3"
      ]
     },
     "execution_count": 7,
     "metadata": {},
     "output_type": "execute_result"
    }
   ],
   "source": [
    "# count methodunun içine aramak istediğimiz sayıyı vererek ilgili listedeki geçme sayısını bulabiliriz.\n",
    "my_list.count(4)"
   ]
  },
  {
   "cell_type": "markdown",
   "metadata": {},
   "source": [
    "### <font color=red>2) Sort() </font>\n"
   ]
  },
  {
   "cell_type": "code",
   "execution_count": 8,
   "metadata": {},
   "outputs": [
    {
     "name": "stdout",
     "output_type": "stream",
     "text": [
      "[2, 3, 4, 4, 4, 5, 7, 9, 10, 11, 13, 15]\n"
     ]
    }
   ],
   "source": [
    "#\n",
    "# Küçükten Büyüğe sıralama yapar ve orjinal listeyi değiştirir\n",
    "my_list.sort()\n",
    "print(my_list)"
   ]
  },
  {
   "cell_type": "code",
   "execution_count": 9,
   "metadata": {},
   "outputs": [
    {
     "name": "stdout",
     "output_type": "stream",
     "text": [
      "[15, 13, 11, 10, 9, 7, 5, 4, 4, 4, 3, 2]\n"
     ]
    }
   ],
   "source": [
    "# Büyükten küçüğe sıralama yapar ve orjinal listeyi değiştirir\n",
    "my_list.sort(reverse=True)\n",
    "print(my_list)"
   ]
  },
  {
   "cell_type": "code",
   "execution_count": 10,
   "metadata": {},
   "outputs": [
    {
     "name": "stdout",
     "output_type": "stream",
     "text": [
      "[15, 13, 11, 10, 9, 7, 5, 4, 4, 4, 3, 2]\n",
      "[2, 3, 4, 4, 4, 5, 7, 9, 10, 11, 13, 15]\n"
     ]
    }
   ],
   "source": [
    "# Küçükten büyüğe sıralama yapar ve orjinal listeyi koruyup sort edileni yeni listeye aktarır.\n",
    "sorted_list = sorted(my_list)\n",
    "print(my_list)\n",
    "print(sorted_list)"
   ]
  },
  {
   "cell_type": "code",
   "execution_count": 11,
   "metadata": {},
   "outputs": [
    {
     "name": "stdout",
     "output_type": "stream",
     "text": [
      "[15, 13, 11, 10, 9, 7, 5, 4, 4, 4, 3, 2]\n",
      "[15, 13, 11, 10, 9, 7, 5, 4, 4, 4, 3, 2]\n"
     ]
    }
   ],
   "source": [
    "# Büyükten küçüğe sıralama yapar ve orjinal listeyi koruyup sort edileni yeni listeye aktarır.\n",
    "sorted_list = sorted(my_list, reverse=True)\n",
    "print(my_list)\n",
    "print(sorted_list)"
   ]
  },
  {
   "cell_type": "markdown",
   "metadata": {},
   "source": [
    "### <font color=red>3) Remove() </font>\n"
   ]
  },
  {
   "cell_type": "code",
   "execution_count": 12,
   "metadata": {},
   "outputs": [
    {
     "name": "stdout",
     "output_type": "stream",
     "text": [
      "[15, 13, 11, 10, 9, 7, 5, 4, 4, 3, 2]\n"
     ]
    }
   ],
   "source": [
    "# liste elamanlarından ilk gördüğüm 4 sayısını sil\n",
    "my_list.remove(4)\n",
    "print(my_list)"
   ]
  },
  {
   "cell_type": "code",
   "execution_count": 13,
   "metadata": {},
   "outputs": [
    {
     "name": "stdout",
     "output_type": "stream",
     "text": [
      "[15, 13, 11, 10, 9, 7, 5, 4, 4, 3, 2]\n",
      "10\n",
      "[15, 13, 11, 9, 7, 5, 4, 4, 3, 2]\n"
     ]
    }
   ],
   "source": [
    "print(my_list)\n",
    "# index değerine göre item silme işlemi\n",
    "# aynı zamanda bu fonksiyon listedeki elemanı çıktı olarak üretir\n",
    "pop_item = my_list.pop(3)\n",
    "print(pop_item)\n",
    "print(my_list)"
   ]
  },
  {
   "cell_type": "markdown",
   "metadata": {},
   "source": [
    "### <font color=red>4) Append() </font>\n"
   ]
  },
  {
   "cell_type": "code",
   "execution_count": 14,
   "metadata": {},
   "outputs": [
    {
     "name": "stdout",
     "output_type": "stream",
     "text": [
      "[15, 13, 11, 9, 7, 5, 4, 4, 3, 2, 7]\n"
     ]
    }
   ],
   "source": [
    "# son index değerine fonksiyona verilen elamanı ekler\n",
    "my_list.append(7)\n",
    "print(my_list)"
   ]
  },
  {
   "cell_type": "markdown",
   "metadata": {},
   "source": [
    "### <font color=red>5) Extend() </font>\n"
   ]
  },
  {
   "cell_type": "code",
   "execution_count": 15,
   "metadata": {},
   "outputs": [
    {
     "name": "stdout",
     "output_type": "stream",
     "text": [
      "[15, 13, 11, 9, 7, 5, 4, 4, 3, 2, 7, 2, 3]\n"
     ]
    }
   ],
   "source": [
    "# farklı listleri birleştirmek için kulanılır\n",
    "my_list.extend([2, 3])\n",
    "print(my_list)"
   ]
  },
  {
   "cell_type": "code",
   "execution_count": 16,
   "metadata": {},
   "outputs": [
    {
     "name": "stdout",
     "output_type": "stream",
     "text": [
      "list1 + list2 :  [15, 13, 11, 9, 7, 5, 4, 4, 3, 2, 7, 2, 3, 'Alpu', 'Beylikova', 'Çifteler', 'Odunpazarı', 'Han', 'İnönü']\n"
     ]
    }
   ],
   "source": [
    "print(\"list1 + list2 : \", my_list + eskisehir)"
   ]
  },
  {
   "cell_type": "markdown",
   "metadata": {},
   "source": [
    "### <font color=red>6) İnsert() </font>\n"
   ]
  },
  {
   "cell_type": "code",
   "execution_count": 17,
   "metadata": {},
   "outputs": [
    {
     "name": "stdout",
     "output_type": "stream",
     "text": [
      "[15, 13, 11, 9, 7, 5, 4, 4, 3, 2, 7, 2, 3]\n",
      "[15, 13, 18, 11, 9, 7, 5, 4, 4, 3, 2, 7, 2, 3]\n"
     ]
    }
   ],
   "source": [
    "print(my_list)\n",
    "# listenin herhangi bir index değerinin olduğu yere ekler\n",
    "my_list.insert(2, 18)\n",
    "print(my_list)"
   ]
  },
  {
   "cell_type": "code",
   "execution_count": null,
   "metadata": {},
   "outputs": [],
   "source": []
  },
  {
   "cell_type": "markdown",
   "metadata": {},
   "source": [
    "# <font color=Blue>Koşul İfadeleri</font>\n"
   ]
  },
  {
   "cell_type": "code",
   "execution_count": 18,
   "metadata": {},
   "outputs": [],
   "source": [
    "# eşittir               a == 12\n",
    "# eşittir değildir      a != 12\n",
    "# büyüktür              a > 12\n",
    "# büyük eşittir         a >= 12\n",
    "# küçüktür              a < 12\n",
    "# küçük eşittir         a <= 12\n",
    "# if a == 12:\n",
    "#     print(\"A eşittir 12\")\n",
    "# if a < 15:\n",
    "#     print(\"A küçüktür 15\")\n",
    "# if a > 10:\n",
    "#     print(\"A büyüktür 10\")\n",
    "# if a >= 12:\n",
    "#     print(\"A büyük eşittir 12\")\n",
    "# if a >= 11:\n",
    "#     print(\"A büyük eşittir 11\")\n",
    "# if a <= 12:\n",
    "#     print(\"A küçük eşittir 12\")\n",
    "# if a <= 13:\n",
    "#     print(\"A küçük eşittir 13\")"
   ]
  },
  {
   "cell_type": "code",
   "execution_count": 19,
   "metadata": {},
   "outputs": [
    {
     "ename": "IndentationError",
     "evalue": "unexpected indent (3684104527.py, line 2)",
     "output_type": "error",
     "traceback": [
      "\u001b[1;36m  Input \u001b[1;32mIn [19]\u001b[1;36m\u001b[0m\n\u001b[1;33m    print(\"A eşittir 12\")\u001b[0m\n\u001b[1;37m    ^\u001b[0m\n\u001b[1;31mIndentationError\u001b[0m\u001b[1;31m:\u001b[0m unexpected indent\n"
     ]
    }
   ],
   "source": [
    "a = 12\n",
    "    print(\"A eşittir 12\")\n",
    "#hizalama    \n",
    "    \n",
    "if a == 12:\n",
    "    print(\"A eşittir 12\")"
   ]
  },
  {
   "cell_type": "code",
   "execution_count": 20,
   "metadata": {},
   "outputs": [
    {
     "name": "stdout",
     "output_type": "stream",
     "text": [
      "A eşittir 12\n",
      "A eşittir 12\n"
     ]
    }
   ],
   "source": [
    "a = 12\n",
    "print(\"A eşittir 12\")\n",
    "# hizalama\n",
    "\n",
    "if a == 12:\n",
    "    print(\"A eşittir 12\")"
   ]
  },
  {
   "cell_type": "code",
   "execution_count": 21,
   "metadata": {},
   "outputs": [
    {
     "name": "stdout",
     "output_type": "stream",
     "text": [
      "Eskişehirin ilçesidir.\n"
     ]
    }
   ],
   "source": [
    "# Odunpazarı Eskişehirin ilçesi midir?\n",
    "if \"Çifteler\" in eskisehir:\n",
    "    print(\"Eskişehirin ilçesidir.\")\n",
    "else:\n",
    "    print(\"Eskişehirin ilçesi değildir.\")"
   ]
  },
  {
   "cell_type": "markdown",
   "metadata": {},
   "source": [
    "### < Elif > Koşulu\n"
   ]
  },
  {
   "cell_type": "code",
   "execution_count": 25,
   "metadata": {},
   "outputs": [
    {
     "name": "stdout",
     "output_type": "stream",
     "text": [
      "15  sayısı 3 ye bölünebilir.\n"
     ]
    }
   ],
   "source": [
    "a = input(\"bir sayı giriniz.\")\n",
    "a = int(a)\n",
    "\n",
    "if a % 2 == 0:\n",
    "    print(a, \" sayısı 2 ye bölünebilir.\")\n",
    "elif a % 3 == 0:\n",
    "    print(a, \" sayısı 3 ye bölünebilir.\")\n",
    "elif a % 5 == 0:\n",
    "    print(a, \" sayısı 5 ye bölünebilir.\")\n",
    "elif a % 7 == 0:\n",
    "    print(a, \" sayısı 7 ye bölünebilir.\")\n",
    "else:\n",
    "    print(a, \" sayısı 2,3,5,7 ye bölünebilir sayı değildir.\")"
   ]
  },
  {
   "cell_type": "code",
   "execution_count": 26,
   "metadata": {},
   "outputs": [
    {
     "name": "stdout",
     "output_type": "stream",
     "text": [
      "15  sayısı 3 ye bölünebilir.\n",
      "15  sayısı 5 ye bölünebilir.\n",
      "15  sayısı 2,3,5,7 ye bölünebilir sayı değildir.\n"
     ]
    }
   ],
   "source": [
    "a = input(\"bir sayı giriniz.\")\n",
    "a = int(a)\n",
    "\n",
    "if a % 2 == 0:\n",
    "    print(a, \" sayısı 2 ye bölünebilir.\")\n",
    "if a % 3 == 0:\n",
    "    print(a, \" sayısı 3 ye bölünebilir.\")\n",
    "if a % 5 == 0:\n",
    "    print(a, \" sayısı 5 ye bölünebilir.\")\n",
    "if a % 7 == 0:\n",
    "    print(a, \" sayısı 7 ye bölünebilir.\")\n",
    "else:\n",
    "    print(a, \" sayısı 2,3,5,7 ye bölünebilir sayı değildir.\")"
   ]
  },
  {
   "cell_type": "code",
   "execution_count": null,
   "metadata": {},
   "outputs": [],
   "source": []
  }
 ],
 "metadata": {
  "kernelspec": {
   "display_name": "Python 3",
   "language": "python",
   "name": "python3"
  },
  "language_info": {
   "codemirror_mode": {
    "name": "ipython",
    "version": 3
   },
   "file_extension": ".py",
   "mimetype": "text/x-python",
   "name": "python",
   "nbconvert_exporter": "python",
   "pygments_lexer": "ipython3",
   "version": "3.10.4"
  }
 },
 "nbformat": 4,
 "nbformat_minor": 4
}
