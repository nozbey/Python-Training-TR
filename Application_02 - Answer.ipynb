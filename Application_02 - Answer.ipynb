{
 "cells": [
  {
   "cell_type": "markdown",
   "metadata": {},
   "source": [
    "## 2- Girdi yüksekliğine göre \" * \" sembollerinden piramit oluşturan bir program yazalım."
   ]
  },
  {
   "cell_type": "markdown",
   "metadata": {},
   "source": [
    "- rows=3\n",
    "\n",
    " <br> &emsp;&emsp;&emsp; $* $\n",
    "<br> &emsp;&emsp; $*** $\n",
    "<br> &emsp; $***** $\n",
    "\n",
    "- rows=5\n",
    "\n",
    "<br>&emsp;&emsp;&emsp;&emsp;&emsp;$      * $\n",
    "<br>&emsp;&emsp;&emsp;&emsp;$     *** $\n",
    "<br>&emsp;&emsp;&emsp;$    ***** $\n",
    "<br>&emsp;&emsp;$  ******* $\n",
    "<br>&emsp;$ ********* $"
   ]
  },
  {
   "cell_type": "code",
   "execution_count": 11,
   "metadata": {},
   "outputs": [
    {
     "name": "stdout",
     "output_type": "stream",
     "text": [
      "    *\n",
      "   ***\n",
      "  *****\n",
      " *******\n",
      "*********\n"
     ]
    }
   ],
   "source": [
    "def piramit(girdi = 3): \n",
    "    #default değer olarak 3 alan fonksiyon\n",
    "    ##\n",
    "    # sütun sayısı olarak girdi değeri alınır\n",
    "    for i in range(0,girdi):\n",
    "        satir_harfleri = \"\"\n",
    "        # sütun sayısı olarak girdi değeri alınır\n",
    "        for j in range(girdi-1,i,-1):\n",
    "            satir_harfleri += \" \"\n",
    "            # satır_harfleri = satır_harfleri + \" \"\n",
    "        for k in range(0, ((2*i)+1)):\n",
    "            satir_harfleri += \"*\"\n",
    "        print(satir_harfleri)\n",
    "    \n",
    "piramit(5)"
   ]
  },
  {
   "cell_type": "code",
   "execution_count": 12,
   "metadata": {},
   "outputs": [
    {
     "name": "stdout",
     "output_type": "stream",
     "text": [
      "              *\n",
      "             ***\n",
      "            *****\n",
      "           *******\n",
      "          *********\n",
      "         ***********\n",
      "        *************\n",
      "       ***************\n",
      "      *****************\n",
      "     *******************\n",
      "    *********************\n",
      "   ***********************\n",
      "  *************************\n",
      " ***************************\n",
      "*****************************\n"
     ]
    }
   ],
   "source": [
    "piramit(15)"
   ]
  },
  {
   "cell_type": "code",
   "execution_count": null,
   "metadata": {},
   "outputs": [],
   "source": []
  }
 ],
 "metadata": {
  "kernelspec": {
   "display_name": "Python 3",
   "language": "python",
   "name": "python3"
  },
  "language_info": {
   "codemirror_mode": {
    "name": "ipython",
    "version": 3
   },
   "file_extension": ".py",
   "mimetype": "text/x-python",
   "name": "python",
   "nbconvert_exporter": "python",
   "pygments_lexer": "ipython3",
   "version": "3.8.5"
  }
 },
 "nbformat": 4,
 "nbformat_minor": 4
}
