{
 "cells": [
  {
   "cell_type": "markdown",
   "metadata": {},
   "source": [
    "<a target=\"_blank\" href=\"https://colab.research.google.com/github/nozbey/Python-Training-TR/blob/main/Tutorial_01%20-%20Hello%20World%20%26%20Strings%20%26%20Functions.ipynb\">\n",
    "  <img src=\"https://colab.research.google.com/assets/colab-badge.svg\" alt=\"Open In Colab\"/>\n",
    "</a>"
   ]
  },
  {
   "cell_type": "markdown",
   "metadata": {},
   "source": [
    "<h4>En Yaygın Programlama Dilleri</h4>\n",
    "<img src=\"https://assets.rbl.ms/25589583/origin.jpg\" height=\"400px\" />"
   ]
  },
  {
   "cell_type": "markdown",
   "metadata": {},
   "source": [
    "## Jupyter Çalışma Sayfasını Tanıyalım"
   ]
  },
  {
   "cell_type": "markdown",
   "metadata": {},
   "source": [
    "* File\n",
    "* Edit\n",
    "* View\n",
    "* Insert\n",
    "* Cell\n",
    "* Kernel\n",
    "* Widgets\n",
    "* Help"
   ]
  },
  {
   "cell_type": "markdown",
   "metadata": {},
   "source": [
    "## Hello World"
   ]
  },
  {
   "cell_type": "code",
   "execution_count": 17,
   "metadata": {
    "scrolled": true
   },
   "outputs": [
    {
     "name": "stdout",
     "output_type": "stream",
     "text": [
      "Hello World!\n"
     ]
    }
   ],
   "source": [
    "# Bu ilk comment## Jupyter Çalışma Sayfasını Tanıyalım\n",
    "# Merhaba Dünya nasıl yazdırılır :) \n",
    "print('Hello World!')"
   ]
  },
  {
   "cell_type": "code",
   "execution_count": 18,
   "metadata": {},
   "outputs": [
    {
     "name": "stdout",
     "output_type": "stream",
     "text": [
      " Merhaba\n"
     ]
    }
   ],
   "source": [
    "print(\"\"\" Merhaba\"\"\")"
   ]
  },
  {
   "cell_type": "markdown",
   "metadata": {},
   "source": [
    "## Stringler ve String Manipülasyonu\n",
    "<<String>>, String sınıfı varsayılan olarak python'da mevcuttur, bu nedenle stringlere nesne arayüzünü kullanmak için bir import ifadesine ihtiyacınız yoktur. Doğrudan [[ .Methodİsmi ]] olarak kullanılabilirler.\n",
    "   "
   ]
  },
  {
   "cell_type": "markdown",
   "metadata": {},
   "source": [
    "* .upper()\n",
    "* .lower()\n",
    "* .title()\n",
    "* .split()\n",
    "* .strip()\n",
    "* https://www.w3schools.com/python/python_ref_string.asp"
   ]
  },
  {
   "cell_type": "code",
   "execution_count": 19,
   "metadata": {},
   "outputs": [],
   "source": [
    "deneme_text = \"SelaM DüNyA\""
   ]
  },
  {
   "cell_type": "code",
   "execution_count": 20,
   "metadata": {},
   "outputs": [
    {
     "name": "stdout",
     "output_type": "stream",
     "text": [
      "SelaM DüNyA\n"
     ]
    }
   ],
   "source": [
    "print(deneme_text)"
   ]
  },
  {
   "cell_type": "markdown",
   "metadata": {},
   "source": [
    "### Birleştirme ve Ayırma"
   ]
  },
  {
   "cell_type": "code",
   "execution_count": 21,
   "metadata": {},
   "outputs": [
    {
     "name": "stdout",
     "output_type": "stream",
     "text": [
      "['SelaM', 'DüNyA']\n"
     ]
    }
   ],
   "source": [
    "temp_list = deneme_text.split(\" \")\n",
    "print(temp_list)"
   ]
  },
  {
   "cell_type": "markdown",
   "metadata": {},
   "source": [
    "* temp_list \n",
    "* temp_list[0] \n",
    "* temp_list[1]"
   ]
  },
  {
   "cell_type": "code",
   "execution_count": 22,
   "metadata": {},
   "outputs": [
    {
     "name": "stdout",
     "output_type": "stream",
     "text": [
      "selamDünyai̇nsanlari\n"
     ]
    }
   ],
   "source": [
    "o = temp_list[0].lower() + temp_list[1].title() + \"İnsanlarI\".lower()\n",
    "print(o)"
   ]
  },
  {
   "cell_type": "code",
   "execution_count": null,
   "metadata": {},
   "outputs": [],
   "source": []
  },
  {
   "cell_type": "code",
   "execution_count": null,
   "metadata": {},
   "outputs": [],
   "source": []
  },
  {
   "cell_type": "markdown",
   "metadata": {},
   "source": [
    "## Matamaiksel Hesaplamalar\n"
   ]
  },
  {
   "cell_type": "code",
   "execution_count": 23,
   "metadata": {},
   "outputs": [
    {
     "data": {
      "text/plain": [
       "4"
      ]
     },
     "execution_count": 23,
     "metadata": {},
     "output_type": "execute_result"
    }
   ],
   "source": [
    "2+2"
   ]
  },
  {
   "cell_type": "code",
   "execution_count": 24,
   "metadata": {},
   "outputs": [
    {
     "data": {
      "text/plain": [
       "2021.0"
      ]
     },
     "execution_count": 24,
     "metadata": {},
     "output_type": "execute_result"
    }
   ],
   "source": [
    "# eğer işlemdeki herhangi bir değer float ise sonuç float olarak gösterilir.\n",
    "2021 - 2.0 + 2"
   ]
  },
  {
   "cell_type": "code",
   "execution_count": 25,
   "metadata": {},
   "outputs": [
    {
     "data": {
      "text/plain": [
       "22.0"
      ]
     },
     "execution_count": 25,
     "metadata": {},
     "output_type": "execute_result"
    }
   ],
   "source": [
    "# Bölme işlemi sonucunda değer her zaman float olarak gösterilir.\n",
    "44 / 2"
   ]
  },
  {
   "cell_type": "code",
   "execution_count": 26,
   "metadata": {},
   "outputs": [],
   "source": [
    "# Çarpma İşlemi, herhangi bir değer float ise sonuç float olarak gösterilir."
   ]
  },
  {
   "cell_type": "code",
   "execution_count": 27,
   "metadata": {},
   "outputs": [
    {
     "data": {
      "text/plain": [
       "101.0"
      ]
     },
     "execution_count": 27,
     "metadata": {},
     "output_type": "execute_result"
    }
   ],
   "source": [
    "20.2*5"
   ]
  },
  {
   "cell_type": "code",
   "execution_count": 28,
   "metadata": {},
   "outputs": [
    {
     "data": {
      "text/plain": [
       "32"
      ]
     },
     "execution_count": 28,
     "metadata": {},
     "output_type": "execute_result"
    }
   ],
   "source": [
    "# üstlü sayılar\n",
    "2**5"
   ]
  },
  {
   "cell_type": "code",
   "execution_count": 29,
   "metadata": {},
   "outputs": [],
   "source": [
    "# mod alma işlemi"
   ]
  },
  {
   "cell_type": "code",
   "execution_count": 30,
   "metadata": {},
   "outputs": [
    {
     "data": {
      "text/plain": [
       "1"
      ]
     },
     "execution_count": 30,
     "metadata": {},
     "output_type": "execute_result"
    }
   ],
   "source": [
    "28%9"
   ]
  },
  {
   "cell_type": "markdown",
   "metadata": {},
   "source": [
    "### Örnek --> Uygulama_01"
   ]
  },
  {
   "cell_type": "code",
   "execution_count": null,
   "metadata": {},
   "outputs": [],
   "source": []
  },
  {
   "cell_type": "markdown",
   "metadata": {},
   "source": [
    "## Fonksiyon Oluşturma"
   ]
  },
  {
   "cell_type": "code",
   "execution_count": 31,
   "metadata": {},
   "outputs": [],
   "source": [
    "def fonksiyon_ismi(parametre_1=1,parametre_2=2):\n",
    "    # girdi 1 : parametre_1\n",
    "    # girdi 2 : parametre_2\n",
    "    \n",
    "    # işlemler girdilere göre yapılır\n",
    "    toplam = parametre_1 + parametre_2\n",
    "    \n",
    "    # toplam değeri çıktı olarak geri dönüş yapılır.\n",
    "    return toplam"
   ]
  },
  {
   "cell_type": "code",
   "execution_count": 32,
   "metadata": {},
   "outputs": [
    {
     "data": {
      "text/plain": [
       "8"
      ]
     },
     "execution_count": 32,
     "metadata": {},
     "output_type": "execute_result"
    }
   ],
   "source": [
    "# fonksiyon ismi kullanılarak çağırma yapılır.\n",
    "fonksiyon_ismi(3,5)"
   ]
  },
  {
   "cell_type": "markdown",
   "metadata": {},
   "source": [
    "### Örnek Sistem Bilgisini Gösteren Fonksiyon\n",
    "##### **<font color='red'>sys</font>  kütüphanesi sistem ile ilgili bilgileri kullanmak için çağırılır.**"
   ]
  },
  {
   "cell_type": "code",
   "execution_count": 33,
   "metadata": {},
   "outputs": [],
   "source": [
    "def sistem_bilgisi_göster():\n",
    "    import sys\n",
    "    print(\"\\nSistemde kurulu Python'ın;\")\n",
    "    print(\"\\tana sürüm numarası:\", sys.version_info.major)\n",
    "    print(\"\\talt sürüm numarası:\", sys.version_info.minor)\n",
    "    print(\"\\tminik sürüm numarası:\", sys.version_info.micro)\n",
    "\n",
    "    print(\"\\nKullanılan işletim sisteminin;\")\n",
    "    print(\"\\tadı:\", sys.platform)"
   ]
  },
  {
   "cell_type": "code",
   "execution_count": 34,
   "metadata": {},
   "outputs": [
    {
     "name": "stdout",
     "output_type": "stream",
     "text": [
      "\n",
      "Sistemde kurulu Python'ın;\n",
      "\tana sürüm numarası: 3\n",
      "\talt sürüm numarası: 10\n",
      "\tminik sürüm numarası: 4\n",
      "\n",
      "Kullanılan işletim sisteminin;\n",
      "\tadı: win32\n"
     ]
    }
   ],
   "source": [
    "sistem_bilgisi_göster()"
   ]
  },
  {
   "cell_type": "code",
   "execution_count": null,
   "metadata": {},
   "outputs": [],
   "source": []
  }
 ],
 "metadata": {
  "kernelspec": {
   "display_name": "Python 3",
   "language": "python",
   "name": "python3"
  },
  "language_info": {
   "codemirror_mode": {
    "name": "ipython",
    "version": 3
   },
   "file_extension": ".py",
   "mimetype": "text/x-python",
   "name": "python",
   "nbconvert_exporter": "python",
   "pygments_lexer": "ipython3",
   "version": "3.10.4"
  }
 },
 "nbformat": 4,
 "nbformat_minor": 4
}
