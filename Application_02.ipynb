{
 "cells": [
  {
   "cell_type": "markdown",
   "metadata": {},
   "source": [
    "## 2- Girdi yüksekliğine göre \" * \" sembollerinden piramit oluşturan bir program yazalım."
   ]
  },
  {
   "cell_type": "markdown",
   "metadata": {},
   "source": [
    "- rows=3\n",
    "\n",
    " <br> &emsp;&emsp;&emsp; $* $\n",
    "<br> &emsp;&emsp; $*** $\n",
    "<br> &emsp; $***** $\n",
    "\n",
    "- rows=5\n",
    "\n",
    "<br>&emsp;&emsp;&emsp;&emsp;&emsp;$      * $\n",
    "<br>&emsp;&emsp;&emsp;&emsp;$     *** $\n",
    "<br>&emsp;&emsp;&emsp;$    ***** $\n",
    "<br>&emsp;&emsp;$  ******* $\n",
    "<br>&emsp;$ ********* $"
   ]
  },
  {
   "cell_type": "code",
   "execution_count": 2,
   "metadata": {},
   "outputs": [
    {
     "name": "stdout",
     "output_type": "stream",
     "text": [
      "...\n"
     ]
    }
   ],
   "source": [
    "def piramit(girdi = 3): \n",
    "    #default değer olarak 3 alan fonksiyon\n",
    "    ##\n",
    "    print(\"...\")\n",
    "\n",
    "    \n",
    "piramit(4)"
   ]
  },
  {
   "cell_type": "code",
   "execution_count": null,
   "metadata": {},
   "outputs": [],
   "source": []
  }
 ],
 "metadata": {
  "kernelspec": {
   "display_name": "Python 3",
   "language": "python",
   "name": "python3"
  },
  "language_info": {
   "codemirror_mode": {
    "name": "ipython",
    "version": 3
   },
   "file_extension": ".py",
   "mimetype": "text/x-python",
   "name": "python",
   "nbconvert_exporter": "python",
   "pygments_lexer": "ipython3",
   "version": "3.8.5"
  }
 },
 "nbformat": 4,
 "nbformat_minor": 4
}
